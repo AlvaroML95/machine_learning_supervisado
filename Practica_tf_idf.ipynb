{
  "nbformat": 4,
  "nbformat_minor": 0,
  "metadata": {
    "colab": {
      "name": "Practica_tf-idf.ipynb",
      "provenance": [],
      "collapsed_sections": [],
      "authorship_tag": "ABX9TyPKG0qI5OahfToIzFeK5V3d",
      "include_colab_link": true
    },
    "kernelspec": {
      "name": "python3",
      "display_name": "Python 3"
    },
    "language_info": {
      "name": "python"
    }
  },
  "cells": [
    {
      "cell_type": "markdown",
      "metadata": {
        "id": "view-in-github",
        "colab_type": "text"
      },
      "source": [
        "<a href=\"https://colab.research.google.com/github/AlvaroML95/machine_learning_supervisado/blob/main/Practica_tf_idf.ipynb\" target=\"_parent\"><img src=\"https://colab.research.google.com/assets/colab-badge.svg\" alt=\"Open In Colab\"/></a>"
      ]
    },
    {
      "cell_type": "code",
      "execution_count": 51,
      "metadata": {
        "colab": {
          "base_uri": "https://localhost:8080/"
        },
        "id": "8HfwS64JR-i8",
        "outputId": "12ed1b0d-eca2-4bdb-e074-4ac2d0d6e80a"
      },
      "outputs": [
        {
          "output_type": "stream",
          "name": "stdout",
          "text": [
            "Drive already mounted at /content/drive; to attempt to forcibly remount, call drive.mount(\"/content/drive\", force_remount=True).\n"
          ]
        }
      ],
      "source": [
        "from google.colab import drive\n",
        "drive.mount('/content/drive')"
      ]
    },
    {
      "cell_type": "markdown",
      "source": [
        "Programamos una función que devuelve el número de veces que aparece una palabra en un texto.\n",
        "La variable de entrada será un split del texto (lista de palabras del texto)."
      ],
      "metadata": {
        "id": "F0gdS0rMaVtt"
      }
    },
    {
      "cell_type": "code",
      "source": [
        "#Primero programé esta función. Funcionaba bien, pero imprimía todas las palabras\n",
        "          #con sus respectivas repeticiones (por ejemplo imprimía casa 2 veces)\n",
        "def freq_palabras(lista_palabras):\n",
        "  for palabra in lista_palabras:\n",
        "    freq = lista_palabras.count(palabra)\n",
        "    print(palabra,':', freq)"
      ],
      "metadata": {
        "id": "d_PA5lBeW4KS"
      },
      "execution_count": 52,
      "outputs": []
    },
    {
      "cell_type": "code",
      "source": [
        "#Finalmente programé esta función, que me ofrece un resultado 'más bonito'\n",
        "def freq_palabras_sin_repes(lista_palabras):\n",
        "  repes = []\n",
        "  for palabra in lista_palabras:\n",
        "    freq = lista_palabras.count(palabra)\n",
        "    if palabra not in repes:\n",
        "      print(palabra,':', freq)\n",
        "      repes.append(palabra)"
      ],
      "metadata": {
        "id": "PMMQAN-olLKp"
      },
      "execution_count": 53,
      "outputs": []
    },
    {
      "cell_type": "markdown",
      "source": [
        "Frequencia de cada palabra del texto de 'file1.txt':\n",
        "\n"
      ],
      "metadata": {
        "id": "i9AmdBUmZhXm"
      }
    },
    {
      "cell_type": "code",
      "source": [
        "f1 = open('/content/drive/MyDrive/data-20220220/drive-download-20220218T162921Z-001/file01.txt')\n",
        "texto1 = f1.read()\n",
        "print(texto1)\n",
        "\n",
        "lista1 = texto1.split()\n",
        "freq_palabras_sin_repes(lista1)"
      ],
      "metadata": {
        "colab": {
          "base_uri": "https://localhost:8080/"
        },
        "id": "nusZPIGBSahl",
        "outputId": "6b054dbb-9e4c-427c-8fb5-3d833d706ce0"
      },
      "execution_count": 54,
      "outputs": [
        {
          "output_type": "stream",
          "name": "stdout",
          "text": [
            "casa casa perro gato nevera \n",
            "\n",
            "casa : 2\n",
            "perro : 1\n",
            "gato : 1\n",
            "nevera : 1\n"
          ]
        }
      ]
    },
    {
      "cell_type": "markdown",
      "source": [
        "Frequencia de cada palabra del texto de 'file2.txt':"
      ],
      "metadata": {
        "id": "LL0Az9R_Z64e"
      }
    },
    {
      "cell_type": "code",
      "source": [
        "f2 = open('/content/drive/MyDrive/data-20220220/drive-download-20220218T162921Z-001/file02.txt')\n",
        "texto2 = f2.read()\n",
        "print(texto2)\n",
        "\n",
        "lista2 = texto2.split()\n",
        "freq_palabras_sin_repes(lista2)"
      ],
      "metadata": {
        "colab": {
          "base_uri": "https://localhost:8080/"
        },
        "id": "yo1DJnPOVLPk",
        "outputId": "9481cd08-b71b-4d65-ec38-081f5a741782"
      },
      "execution_count": 55,
      "outputs": [
        {
          "output_type": "stream",
          "name": "stdout",
          "text": [
            "perro gato ordenador libro\n",
            "\n",
            "perro : 1\n",
            "gato : 1\n",
            "ordenador : 1\n",
            "libro : 1\n"
          ]
        }
      ]
    },
    {
      "cell_type": "markdown",
      "source": [
        "Frequencia de cada palabra del texto de 'file3.txt':"
      ],
      "metadata": {
        "id": "qa4WJyvPZ9-E"
      }
    },
    {
      "cell_type": "code",
      "source": [
        "f3 = open('/content/drive/MyDrive/data-20220220/drive-download-20220218T162921Z-001/file03.txt')\n",
        "texto3 = f3.read()\n",
        "print(texto3)\n",
        "\n",
        "lista3 = texto3.split()\n",
        "freq_palabras_sin_repes(lista3)"
      ],
      "metadata": {
        "colab": {
          "base_uri": "https://localhost:8080/"
        },
        "id": "pKzNAIAVVYr2",
        "outputId": "65c5b20f-1f34-48c3-a984-3b328e447e56"
      },
      "execution_count": 56,
      "outputs": [
        {
          "output_type": "stream",
          "name": "stdout",
          "text": [
            "libro espada cuento ordenador\n",
            "\n",
            "libro : 1\n",
            "espada : 1\n",
            "cuento : 1\n",
            "ordenador : 1\n"
          ]
        }
      ]
    },
    {
      "cell_type": "markdown",
      "source": [
        "A partir de varios archivos txt programamos una función que devuelve el número de veces que aparece cada palabra en toda la colección de txt (esto es, el índice TF-IDF). La variable de entrada será una lista con los split respectivos a los archivos txt."
      ],
      "metadata": {
        "id": "2bAGyWEDaBsR"
      }
    },
    {
      "cell_type": "code",
      "source": [
        "def tf_idf_index(f):\n",
        "  l = []\n",
        "  i=0\n",
        "  while i<len(f):\n",
        "    for palabra in f[i]:\n",
        "      l.append(palabra)\n",
        "    i = i+1\n",
        "  return freq_palabras_sin_repes(l)"
      ],
      "metadata": {
        "id": "H5k_IIvTXfbX"
      },
      "execution_count": 58,
      "outputs": []
    },
    {
      "cell_type": "code",
      "source": [
        "tf_idf_index([lista1,lista2,lista3])"
      ],
      "metadata": {
        "colab": {
          "base_uri": "https://localhost:8080/"
        },
        "id": "Pt5ybEDFi42p",
        "outputId": "ed352a44-0bca-4884-821e-5f10d678643b"
      },
      "execution_count": 59,
      "outputs": [
        {
          "output_type": "stream",
          "name": "stdout",
          "text": [
            "casa : 2\n",
            "perro : 2\n",
            "gato : 2\n",
            "nevera : 1\n",
            "ordenador : 2\n",
            "libro : 2\n",
            "espada : 1\n",
            "cuento : 1\n"
          ]
        }
      ]
    }
  ]
}